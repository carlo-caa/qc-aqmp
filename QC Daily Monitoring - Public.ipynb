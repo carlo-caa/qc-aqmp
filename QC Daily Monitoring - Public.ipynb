{
 "cells": [
  {
   "cell_type": "code",
   "execution_count": null,
   "id": "6676dfd1",
   "metadata": {},
   "outputs": [],
   "source": [
    "import requests\n",
    "import pandas as pd\n",
    "import datetime as dt\n",
    "import json\n",
    "import matplotlib.pyplot as plt\n",
    "\n",
    "k = 123\n",
    "#\n",
    "base = \"https://clarity-data-api.clarity.io/v1/measurements\"\n",
    "\n",
    "head = {\n",
    "    'x-api-key':k,\n",
    "    \"Accept-Encoding\":\"gzip\"\n",
    "}\n",
    "\n",
    "limit = 20000"
   ]
  },
  {
   "cell_type": "code",
   "execution_count": null,
   "id": "d715e03a",
   "metadata": {},
   "outputs": [],
   "source": [
    "def linear_correction(raw_val):\n",
    "    return (raw_val--4.933)/1.8766\n",
    "\n",
    "def mlr_correction(raw_val,temp,rel_hum):\n",
    "    return ( raw_val-(-75.2019) - (temp*0.8060) - (rel_hum*0.6382) )  / 1.8352"
   ]
  },
  {
   "cell_type": "code",
   "execution_count": null,
   "id": "893a7108",
   "metadata": {},
   "outputs": [],
   "source": [
    "##### HUMAN OUTPUT ######\n",
    "#qc list\n",
    "sensors = pd.read_csv(\"sensors.csv\",parse_dates=['inst_date'],index_col=['id'])\n",
    "outputfreq='hour' #other options 'hour' or 'min'\n",
    "\n",
    "start = \"2023-05-01 00:00:00\"\n",
    "end = \"2023-05-02 00:00:00\" #PH TIME\n"
   ]
  },
  {
   "cell_type": "code",
   "execution_count": null,
   "id": "2258f935",
   "metadata": {
    "scrolled": false
   },
   "outputs": [],
   "source": [
    "end = pd.to_datetime(end) - dt.timedelta(hours=8) #conversion to GMT+0\n",
    "start = pd.to_datetime(start) - dt.timedelta(hours=8) #conversion to GMT+0\n",
    "master = pd.DataFrame()\n",
    "no_temps = pd.DataFrame()\n",
    "filename_date_format = \"%d-%b-%Y %H_%M\"\n",
    "\n",
    "tempcol = 'characteristics.temperature.value'\n",
    "rh_col = 'characteristics.relHumid.value'\n",
    "pm25raw_col = 'characteristics.pm2_5ConcMass.raw'\n",
    "calib_col = 'characteristics.pm2_5ConcMass.calibratedValue'\n",
    "\n",
    "for index, row in sensors.iterrows():\n",
    "    dev_id = row[\"dev_id\"]\n",
    "    \n",
    "    s_name = row['short_name']\n",
    "    \n",
    "    params = {\n",
    "    \"code\":dev_id,\n",
    "    \"outputFrequency\":outputfreq,\n",
    "    \"startTime\":start,\n",
    "    \"endTime\":end,\n",
    "    \"limit\":limit\n",
    "    }\n",
    "    try:\n",
    "        print('getting results for',dev_id)\n",
    "        result = requests.get(base,params=params,headers=head)\n",
    "        a = result.json()\n",
    "        df = pd.json_normalize(a)\n",
    "        df['time'] = pd.to_datetime(df['time'])\n",
    "        df = df.set_index('time')\n",
    "        df = df.tz_convert(\"Asia/Manila\")\n",
    "        df = df.tz_localize(None)\n",
    "        df = df.sort_index()\n",
    "\n",
    "        cur = df[[tempcol,calib_col,rh_col,pm25raw_col]]\n",
    "       \n",
    "        mlr_colname = \"pm2.5_MLR_\" +s_name\n",
    "        linear_colname = \"pm2.5_linear_\" + s_name\n",
    "        cur[linear_colname] = linear_correction(cur[pm25raw_col])\n",
    "        cur[mlr_colname] = mlr_correction(cur[pm25raw_col],cur[tempcol],cur[rh_col])\n",
    "\n",
    "        cur = cur.rename(columns = {\n",
    "            tempcol:\"temp_\"+s_name,\n",
    "            rh_col:\"rh_\"+s_name,\n",
    "            pm25raw_col:\"pm2.5_raw_\"+s_name,\n",
    "            calib_col:\"pm2.5_calib_\"+s_name\n",
    "        })\n",
    "        \n",
    "        cur_no_temp = cur[[\"pm2.5_calib_\"+s_name]]\n",
    "        \n",
    "        master = master.join(cur,how=\"outer\", lsuffix='a')\n",
    "        no_temps = no_temps.join(cur_no_temp,how=\"outer\",lsuffix='a')\n",
    "    except KeyError:\n",
    "        pass"
   ]
  },
  {
   "cell_type": "code",
   "execution_count": null,
   "id": "0d158697",
   "metadata": {
    "scrolled": true
   },
   "outputs": [],
   "source": [
    "maxdf = pd.DataFrame()\n",
    "maxdf['max_timestamp'] = master.idxmax(axis=0)\n",
    "maxdf['max_value'] = master.max()"
   ]
  },
  {
   "cell_type": "code",
   "execution_count": null,
   "id": "66b6a79a",
   "metadata": {
    "scrolled": true
   },
   "outputs": [],
   "source": [
    "summary = pd.DataFrame()\n",
    "today = \"2023-05-01\"\n",
    "\n",
    "am_start = \"06:00\"\n",
    "am_end = \"08:00\"\n",
    "\n",
    "noon_start = \"11:00\"\n",
    "noon_end = \"13:00\"\n",
    "\n",
    "pm_start = \"16:00\"\n",
    "pm_end = \"18:00\"\n",
    "\n",
    "# am_df = no_temps.loc[today+\" \"+am_start:today+\" \"+am_end]\n",
    "# noon_df = no_temps.loc[today+\" \"+noon_start:today+\" \"+noon_end]\n",
    "# pm_df = no_temps.loc[today+\" \"+pm_start:today+\" \"+pm_end]\n",
    "\n",
    "am_df = master.loc[today+\" \"+am_start:today+\" \"+am_end]\n",
    "noon_df = master.loc[today+\" \"+noon_start:today+\" \"+noon_end]\n",
    "pm_df = master.loc[today+\" \"+pm_start:today+\" \"+pm_end]\n",
    "\n",
    "\n",
    "summary['am_ave'] = am_df.sum() / 3\n",
    "summary['noon_ave'] = noon_df.sum() / 3\n",
    "summary['pm_ave'] = pm_df.sum() / 3\n",
    "summary = summary.join(maxdf,how='outer')\n",
    "summary"
   ]
  },
  {
   "cell_type": "code",
   "execution_count": null,
   "id": "8df34409",
   "metadata": {},
   "outputs": [],
   "source": [
    "dev_base = \"https://clarity-data-api.clarity.io/v1/devices\"\n",
    "\n",
    "dev_head = {\n",
    "    'x-api-key':k\n",
    "}\n",
    "\n",
    "result = requests.get(dev_base,headers=dev_head)\n",
    "a = result.json()\n",
    "df = pd.json_normalize(a)\n",
    "\n",
    "status_df = df[['code','batteryStatus','sensorsHealthStatus','overallStatus']]\n",
    "status_df"
   ]
  },
  {
   "cell_type": "code",
   "execution_count": null,
   "id": "4d5c4d63",
   "metadata": {
    "scrolled": true
   },
   "outputs": [],
   "source": [
    "no_temps.plot(figsize=(18,6))"
   ]
  },
  {
   "cell_type": "code",
   "execution_count": null,
   "id": "d0966b0f",
   "metadata": {},
   "outputs": [],
   "source": [
    "pd.merge(sensors[[\"dev_id\",\"long_name\"]], status_df, left_on='dev_id', right_on='code')"
   ]
  }
 ],
 "metadata": {
  "kernelspec": {
   "display_name": "Python [conda env:caa_gpd]",
   "language": "python",
   "name": "conda-env-caa_gpd-py"
  },
  "language_info": {
   "codemirror_mode": {
    "name": "ipython",
    "version": 3
   },
   "file_extension": ".py",
   "mimetype": "text/x-python",
   "name": "python",
   "nbconvert_exporter": "python",
   "pygments_lexer": "ipython3",
   "version": "3.10.4"
  }
 },
 "nbformat": 4,
 "nbformat_minor": 5
}
